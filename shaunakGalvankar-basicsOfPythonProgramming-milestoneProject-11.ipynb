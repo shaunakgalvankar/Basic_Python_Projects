{
 "cells": [
  {
   "cell_type": "markdown",
   "metadata": {},
   "source": [
    "# Milestone Project - 1\n",
    "\n",
    "You have reached to the first Milestone Project of the Basic Python Programming Course.\n",
    "<br> Congrats!\n",
    "<br> Now that we have built a strong foundation in Python Programming, lets test our knowledge by laying our hands on the milestone project.\n",
    "<br> Pat your back, this is really a great achievement. But don't just stop here. We need to work harder now. \n",
    "<br> Lets begin"
   ]
  },
  {
   "cell_type": "markdown",
   "metadata": {
    "collapsed": true
   },
   "source": [
    "Your first milestone project of this course is Score Card for 2017 BWF World Championships – Women's singles"
   ]
  },
  {
   "cell_type": "markdown",
   "metadata": {},
   "source": [
    "# Relevant rules of Badminton Championship to this project\n",
    "\n",
    "### What is a set?\n",
    "Each set is played to 21 points, with players scoring a point whenever they win a rally regardless of whether they served.\n",
    "<br>If the score reaches 20-all, then the set continues until one side gains a two-point lead (such as 24–22), except when there is a tie at 29-all, in which the set goes to a golden point. \n",
    "<br>Whoever scores this point will win.\n",
    "\n",
    "### What is a game ? \n",
    "A match or a game is the best of three sets.\n",
    "<br>Games or matches are best out of three: a player or pair must win two sets (of 21 points each) to win the match."
   ]
  },
  {
   "cell_type": "markdown",
   "metadata": {},
   "source": [
    "# Problem Statement\n",
    "\n",
    "You have to write a Python program that reads information about all the matches and compiles the following statistics for each player:\n",
    "\n",
    "Number of sets won \n",
    "<br>Number of games won \n",
    "<br>Number of sets lost \n",
    "<br>Number of games lost\n",
    "\n",
    "### Format of Input is \n",
    "<br>Winner:Loser:Set-1-score,...,Set-k-score, where k could be 2 or 3\n",
    "\n",
    "### Format of Output is \n",
    "\n",
    "Player1 : SW : Number of sets won GW : Number of games won SL : Number of sets lost GL : Number of games lost\n",
    "<br>.\n",
    "<br>.\n",
    "<br>.\n",
    "<br>.\n",
    "<br> Playern : SW : Number of sets won GW : Number of games won SL : Number of sets lost GL : Number of games lost\n",
    "\n",
    "Here, SW stands for Number of sets won\n",
    "<br>GW stands for Number of games won\n",
    "<br>SL stands for Number of sets lost\n",
    "<br>GL stands for Number of games lost.\n",
    "\n",
    "### For example:\n",
    "\n",
    "**Input:**\n",
    "\n",
    "T Lad:C Birch:17-21,21-10,21-19\n",
    "<br>T Lad:Sung J-h:21-9,21-19 \n",
    "\n",
    "**Explanation for input:**\n",
    "<br>T Lad beat C Birch 17-21,21-10,21-19 in the first match and then in the second one T Lad beat Sung J-h 21-9,21-19 \n",
    "\n",
    "**Output:**\n",
    "\n",
    "T Lad SW : 4, GW : 2, SL :  1, GL :  0\n",
    "<br>C Birch SW : 1, GW : 0, SL :  2, GL :  1\n",
    "<br>Sung J-h SW : 21, GW : 0, SL :  2, GL :  1\n",
    "\n",
    "**Explanation for output:**\n",
    "<br> T Lad has won 4 sets and 6 games and has lost 1 set and hasn't lost any game as we can see from the given results.\n",
    "<br> Similarly,C Birch has won 1 sets and no game and has lost 2 sets and lost 1 game as we can see from the given results.\n",
    "<br> Finally,Sung J-h has won 21 sets and no game and has lost 2 sets and lost 1 game as we can see from the given results.\n",
    "\n",
    "### Sample Test Case 1:\n",
    "\n",
    "Input:\n",
    "\n",
    "L Kjaersfeldt:M Ulitina:21-15,21-19\n",
    "<br>A Yamaguchi:L Kjaersfeldt:21-6,21-13\n",
    "<br>K Gilmour:R Das:21-16,21-13\n",
    "\n",
    "Output:\n",
    "\n",
    "L Kjaersfeldt : SW : 2, GW : 1, SL : 2, GL : 1\n",
    "<br>M Ulitina : SW : 0, GW : 0, SL : 2, GL : 1\n",
    "<br>A Yamaguchi : SW : 2, GW : 1, SL : 0, GL : 0\n",
    "<br>K Gilmour : SW : 2, GW : 1, SL : 0, GL : 0\n",
    "<br>R Das : SW : 0, GW : 0, SL : 2, GL : 1\n",
    "\n",
    "\n",
    "### Sample Test Case 2:\n",
    "\n",
    "Input:\n",
    "\n",
    "Sun Y:L A Mainaky:21-13,21-9\n",
    "<br>Sun Y:B Corrales:21-11,19-21,23-21\n",
    "<br>P. V. Sindhu:Sun Y:21-13,21-9\n",
    "<br>L A Mainaky:K Foo Kune:21-11,21-16\n",
    "\n",
    "Output:\n",
    "\n",
    "Sun Y : SW : 4, GW : 2, SL : 3, GL : 1\n",
    "<br>L A Mainaky : SW : 2, GW : 1, SL : 2, GL : 1\n",
    "<br>B Corrales : SW : 1, GW : 0, SL : 2, GL : 1 \n",
    "<br>P. V. Sindhu : SW : 2, GW :  1, SL : 0, GL : 0\n",
    "<br>K Foo Kune : SW : 0, GW :  0, SL : 2, GL : 1\n"
   ]
  },
  {
   "cell_type": "markdown",
   "metadata": {},
   "source": [
    "**Lets get started by defining our input as a list.**\n",
    "<br> Lets start with sample test case 3\n",
    "\n",
    "P. V. Sindhu:Kim H-m:21-16,21-14\n",
    "<br>P. V. Sindhu:Cheung N Y:19-21,23-21,21-17\n",
    "<br>S Nehwal:S Jaquet:21-11,21-12\n",
    "<br>Nozomi Okuhara:S Nehwal:12-21,21-17,21-10\n",
    "<br>Nozomi Okuhara:P. V. Sindhu:21-19,20-22,22-20"
   ]
  },
  {
   "cell_type": "code",
   "execution_count": 110,
   "metadata": {},
   "outputs": [],
   "source": [
    "match_details = [\n",
    "\"P. V. Sindhu:Kim H-m:21-16,21-14\",\n",
    "\"P. V. Sindhu:Cheung N Y:19-21,23-21,21-17\",\n",
    "\"S Nehwal:S Jaquet:21-11,21-12\",\n",
    "\"Nozomi Okuhara:S Nehwal:12-21,21-17,21-10\",\n",
    "\"Nozomi Okuhara:P. V. Sindhu:21-19,20-22,22-20\"\n",
    "]"
   ]
  },
  {
   "cell_type": "markdown",
   "metadata": {},
   "source": [
    "**Step 1 : Reading the input.**\n",
    "\n",
    "You have to do three things here:\n",
    ">1. Create a set of all the names, name it as *players*.\n",
    ">2. Create a dictionary with keys as \"Winner\", \"Loser\" and \"Matches\" and their values would be winner, loser and the matches ('12-21,21-17,21-10') respectively.\n",
    ">3. The dictionary that you create in previous step is for one match, you need to create a list of these dictionaries for all matches. Name the list as *match_details_combined*. "
   ]
  },
  {
   "cell_type": "code",
   "execution_count": 111,
   "metadata": {},
   "outputs": [
    {
     "name": "stdout",
     "output_type": "stream",
     "text": [
      "{'P. V. Sindhu': 'P. V. Sindhu', 'Kim H-m': 'Kim H-m', 'Cheung N Y': 'Cheung N Y', 'S Nehwal': 'S Nehwal', 'S Jaquet': 'S Jaquet', 'Nozomi Okuhara': 'Nozomi Okuhara'}\n"
     ]
    }
   ],
   "source": [
    "players={}\n",
    "for i in range(len(match_details)):\n",
    "    a=match_details[i].split(':')\n",
    "\n",
    "    players[str(a[0])]=a[0]\n",
    "    players[str(a[1])]=a[1]\n",
    "\n",
    "print(players)"
   ]
  },
  {
   "cell_type": "code",
   "execution_count": 112,
   "metadata": {},
   "outputs": [
    {
     "name": "stdout",
     "output_type": "stream",
     "text": [
      "{'0': {'winner': 'P. V. Sindhu', 'looser': 'Kim H-m', 'matches': '21-16,21-14'}, '1': {'winner': 'P. V. Sindhu', 'looser': 'Cheung N Y', 'matches': '19-21,23-21,21-17'}, '2': {'winner': 'S Nehwal', 'looser': 'S Jaquet', 'matches': '21-11,21-12'}, '3': {'winner': 'Nozomi Okuhara', 'looser': 'S Nehwal', 'matches': '12-21,21-17,21-10'}, '4': {'winner': 'Nozomi Okuhara', 'looser': 'P. V. Sindhu', 'matches': '21-19,20-22,22-20'}}\n"
     ]
    }
   ],
   "source": [
    "diction={}\n",
    "match_det={}\n",
    "for i in range(len(match_details)):\n",
    "    a=match_details[i].split(':')\n",
    "    diction={\n",
    "        'winner':a[0],\n",
    "        'looser':a[1],\n",
    "        'matches':a[2]\n",
    "    }\n",
    "    \n",
    "    match_det[str(i)]=diction\n",
    "print(match_det)\n",
    "\n"
   ]
  },
  {
   "cell_type": "markdown",
   "metadata": {},
   "source": [
    "Now you have created a list of dictionaries of all matches. \n",
    "<br> The structure obtained is now more accessible and readable."
   ]
  },
  {
   "cell_type": "markdown",
   "metadata": {},
   "source": [
    "Before moving on to the further steps our final dictionary should look like this:\n",
    "\n",
    "`    \n",
    "player_n_details = {\"player_name\" : {\"SW\" : no. of sets won, \"GW\" : no. of games won, \"SL\" : no. of sets lost, \"GL\" : no. of games lost}}\n",
    "`\n",
    "<font color=red>Expected Output: </font>\n",
    "<br>For Cheung N Y, your player_n_details dictionary would look like this: \n",
    "<br>{'Cheung N Y': {'GL': 0, 'GW': 0, 'SL': 0, 'SW': 0}}\n",
    "\n",
    "*player_n_details* is the detail of nth player, we need details of all players together. For that you can use any data structure of your choice. We have used dictionary here. Name it as *player_details*.\n",
    "\n",
    "In the upcoming steps, we will start filling these attributes i.e. SW,GW,SL,GL one by one for each player and then display the output in the required format."
   ]
  },
  {
   "cell_type": "markdown",
   "metadata": {},
   "source": [
    "In the following cells, your have to create *player_n_details* as shown above and assign SW,GW,SL,GL to 0.\n",
    "<br> Then combine all *player_n_details* to form *player_details*"
   ]
  },
  {
   "cell_type": "code",
   "execution_count": 113,
   "metadata": {},
   "outputs": [
    {
     "name": "stdout",
     "output_type": "stream",
     "text": [
      "{'P. V. Sindhu': {'P. V. Sindhu': {'GL': 0, 'GW': 0, 'SL': 0, 'SW': 0}}, 'Kim H-m': {'Kim H-m': {'GL': 0, 'GW': 0, 'SL': 0, 'SW': 0}}, 'Cheung N Y': {'Cheung N Y': {'GL': 0, 'GW': 0, 'SL': 0, 'SW': 0}}, 'S Nehwal': {'S Nehwal': {'GL': 0, 'GW': 0, 'SL': 0, 'SW': 0}}, 'S Jaquet': {'S Jaquet': {'GL': 0, 'GW': 0, 'SL': 0, 'SW': 0}}, 'Nozomi Okuhara': {'Nozomi Okuhara': {'GL': 0, 'GW': 0, 'SL': 0, 'SW': 0}}}\n"
     ]
    }
   ],
   "source": [
    "player_n_details={}\n",
    "for i in players:\n",
    "    player_details={str(i):{'GL':0,'GW':0,'SL':0,'SW':0}}\n",
    "\n",
    "    player_n_details[str(i)]=player_details\n",
    "print(player_n_details)"
   ]
  },
  {
   "cell_type": "code",
   "execution_count": 114,
   "metadata": {},
   "outputs": [
    {
     "name": "stdout",
     "output_type": "stream",
     "text": [
      "{'P. V. Sindhu': {'P. V. Sindhu': {'GL': 1, 'GW': 2, 'SL': 0, 'SW': 0}}, 'Kim H-m': {'Kim H-m': {'GL': 1, 'GW': 0, 'SL': 0, 'SW': 0}}, 'Cheung N Y': {'Cheung N Y': {'GL': 1, 'GW': 0, 'SL': 0, 'SW': 0}}, 'S Nehwal': {'S Nehwal': {'GL': 1, 'GW': 1, 'SL': 0, 'SW': 0}}, 'S Jaquet': {'S Jaquet': {'GL': 1, 'GW': 0, 'SL': 0, 'SW': 0}}, 'Nozomi Okuhara': {'Nozomi Okuhara': {'GL': 0, 'GW': 2, 'SL': 0, 'SW': 0}}}\n"
     ]
    }
   ],
   "source": [
    "for i in range(len(match_det)):\n",
    "    winner=match_det[str(i)]['winner']\n",
    "    looser=match_det[str(i)]['looser']\n",
    "    \n",
    "    player_n_details[winner][winner]['GW']+=1\n",
    "    player_n_details[looser][looser]['GL']+=1\n",
    "print(player_n_details)\n",
    "    \n"
   ]
  },
  {
   "cell_type": "markdown",
   "metadata": {},
   "source": [
    "Now your final dictionary for each player is ready.\n",
    "<br> The only task left is to fill in the values for each attribute i.e GW,GL,SL,SW"
   ]
  },
  {
   "cell_type": "markdown",
   "metadata": {},
   "source": [
    "**Step 2 : Calculating the games won**\n",
    "\n",
    "Now that your *player_details* dictionary is ready further work will be easier.\n",
    "Finding games won attribute and games lost the easiest of all four attributes.\n",
    "\n",
    "So how do we go about it?\n",
    "<br> We will go over all the winners for the corresponding *GW* entry of the winner we will assign as 1, no need to do anything for losers as their *GW* was already set to 0."
   ]
  },
  {
   "cell_type": "code",
   "execution_count": null,
   "metadata": {},
   "outputs": [],
   "source": []
  },
  {
   "cell_type": "markdown",
   "metadata": {},
   "source": [
    "**Step 3 : Calculating the games lost**\n",
    "\n",
    "This one is very similar to the previous step that is why, we won't give out the method to this one.\n",
    "<br> Go Ahead. Crack this yourself."
   ]
  },
  {
   "cell_type": "code",
   "execution_count": null,
   "metadata": {
    "scrolled": true
   },
   "outputs": [],
   "source": []
  },
  {
   "cell_type": "markdown",
   "metadata": {},
   "source": [
    "**Step 4 : Splitting Matches in *match_details_combined***\n",
    "\n",
    "Now before entering into calculations for sets won and sets lost.\n",
    "<br> Lets make a few changes to match_details dictionary.\n",
    "<br> Split the value \"Matches\" in match_details into a list of separate matches. \n",
    "<br> It should look something like this :\n",
    "<br> \"21-13,20-21\" -> [[21,13],[20,21]] \n",
    "<br> ** Make sure when you split, that the resultant numbers are integers (use type casting)**"
   ]
  },
  {
   "cell_type": "code",
   "execution_count": 115,
   "metadata": {},
   "outputs": [
    {
     "name": "stdout",
     "output_type": "stream",
     "text": [
      "{'0': [[21, 16], [21, 14]], '1': [[19, 21], [23, 21], [21, 17]], '2': [[21, 11], [21, 12]], '3': [[12, 21], [21, 17], [21, 10]], '4': [[21, 19], [20, 22], [22, 20]]}\n"
     ]
    }
   ],
   "source": [
    "match_sets={}\n",
    "for j in range(len(match_det)):\n",
    "    scores=match_det[str(j)]['matches'].split(',')\n",
    "    match_sets[str(j)]=[]\n",
    "    for i in scores:\n",
    "        match_sets[str(j)].append(list(map(int,i.split(\"-\"))))\n",
    "print(match_sets)"
   ]
  },
  {
   "cell_type": "markdown",
   "metadata": {},
   "source": [
    "**Step 5 : Calculating the sets won and sets lost**\n",
    "\n",
    "This is a bit difficult as compared to the previous steps.\n",
    "<br> We iterate over all players.\n",
    "<br> For each player:\n",
    "><br> 1.If the player is winner of match and then compare the elements in the list. \n",
    "<br> For eg. [[21,13],[20,21]], the winner of the match has one first set.\n",
    "<br> Increase the SW of that player by one.\n",
    "<br> Also, he has lost second set in the match.\n",
    "<br> Increase the SL of that player by one.\n",
    " \n",
    ">2.If the player is loser of match and then compare the elements in the list. \n",
    "<br> For eg. [[21,13],[20,21]], the loser of the match has one second set.\n",
    "<br> Increase the SW of that player by one.\n",
    "<br> Also, he has lost first set in the match.\n",
    "<br> Increase the SL of that player by one."
   ]
  },
  {
   "cell_type": "code",
   "execution_count": 116,
   "metadata": {},
   "outputs": [
    {
     "name": "stdout",
     "output_type": "stream",
     "text": [
      "{'0': [[21, 16], [21, 14]], '1': [[19, 21], [23, 21], [21, 17]], '2': [[21, 11], [21, 12]], '3': [[12, 21], [21, 17], [21, 10]], '4': [[21, 19], [20, 22], [22, 20]]}\n",
      "{'P. V. Sindhu': {'P. V. Sindhu': {'GL': 1, 'GW': 2, 'SL': 3, 'SW': 5}}, 'Kim H-m': {'Kim H-m': {'GL': 1, 'GW': 0, 'SL': 2, 'SW': 0}}, 'Cheung N Y': {'Cheung N Y': {'GL': 1, 'GW': 0, 'SL': 2, 'SW': 1}}, 'S Nehwal': {'S Nehwal': {'GL': 1, 'GW': 1, 'SL': 2, 'SW': 3}}, 'S Jaquet': {'S Jaquet': {'GL': 1, 'GW': 0, 'SL': 2, 'SW': 0}}, 'Nozomi Okuhara': {'Nozomi Okuhara': {'GL': 0, 'GW': 2, 'SL': 2, 'SW': 4}}}\n"
     ]
    }
   ],
   "source": [
    "print(match_sets)\n",
    "for i in match_sets:\n",
    "    for j in range(len(match_sets[str(i)])):\n",
    "        #match_sets[str(i)][j][0] and match_sets[str(i)][j][1]\n",
    "        if(match_sets[str(i)][j][0]>match_sets[str(i)][j][1]):\n",
    "            set_winner=match_det[str(i)]['winner']\n",
    "            set_looser=match_det[str(i)]['looser']\n",
    "            player_n_details[set_winner][set_winner]['SW']+=1\n",
    "            player_n_details[set_looser][set_looser]['SL']+=1\n",
    "        elif(match_sets[str(i)][j][0]<match_sets[str(i)][j][1]):\n",
    "            set_looser=match_det[str(i)]['winner']\n",
    "            set_winner=match_det[str(i)]['looser']\n",
    "            player_n_details[set_winner][set_winner]['SW']+=1\n",
    "            player_n_details[set_looser][set_looser]['SL']+=1\n",
    "print(player_n_details)"
   ]
  },
  {
   "cell_type": "markdown",
   "metadata": {},
   "source": [
    "**Step 6 : Formatting the output in required form**\n",
    "\n",
    "In this step you have to format and print the output in the exact form as shown in the sample test cases and you can verify your answer with the expected output given below."
   ]
  },
  {
   "cell_type": "code",
   "execution_count": 118,
   "metadata": {},
   "outputs": [
    {
     "name": "stdout",
     "output_type": "stream",
     "text": [
      "Player Name     SW     GW     SL     GL\n",
      "P. V. Sindhu     5     2     3     1\n",
      "Kim H-m     0     0     2     1\n",
      "Cheung N Y     1     0     2     1\n",
      "S Nehwal     3     1     2     1\n",
      "S Jaquet     0     0     2     1\n",
      "Nozomi Okuhara     4     2     2     0\n"
     ]
    }
   ],
   "source": [
    "print(\"Player Name\"+\"     \"+\"SW\"+\"     \"+\"GW\"+\"     \"+\"SL\"+\"     \"+\"GL\")\n",
    "\n",
    "for i in player_n_details.keys():\n",
    "    print(i+\"     \"+str(player_n_details[i][i][\"SW\"])+\"     \"+str(player_n_details[i][i][\"GW\"])+\"     \"+str(player_n_details[i][i][\"SL\"])+\"     \"+str(player_n_details[i][i][\"GL\"]))"
   ]
  },
  {
   "cell_type": "markdown",
   "metadata": {},
   "source": [
    "<font color=red>Expected Output: </font>\n",
    "\n",
    "<table style = \"text-align: left;width:50%\">\n",
    "    <tr>\n",
    "        <th>\n",
    "            Player name\n",
    "        </th>\n",
    "        <th>\n",
    "            SW\n",
    "        </th>\n",
    "        <th>\n",
    "            GW\n",
    "        </th>\n",
    "        <th>\n",
    "            SL\n",
    "        </th>\n",
    "        <th>\n",
    "            GL\n",
    "        </th>\n",
    "    </tr>\n",
    "  <tr>\n",
    "    <td>**Cheung N Y**</td>\n",
    "    <td>1</td>\n",
    "    <td>0</td>\n",
    "    <td>2</td>\n",
    "    <td>1</td>\n",
    "  </tr>\n",
    "  <tr>\n",
    "     <td>**P. V. Sindhu**</td>\n",
    "     <td>5</td>\n",
    "     <td>2</td>\n",
    "     <td>3</td>\n",
    "     <td>1</td>\n",
    "  </tr>  \n",
    "  <tr>\n",
    "  <td>**S Nehwal**</td>\n",
    "  <td>3</td>\n",
    "    <td>1</td>\n",
    "    <td>2</td>\n",
    "    <td>1</td>\n",
    "   </tr> \n",
    "   <tr>\n",
    "  <td>**Kim H-m**</td>\n",
    "    <td>0</td>\n",
    "    <td>0</td>\n",
    "    <td>2</td>\n",
    "    <td>1</td>\n",
    "   </tr> \n",
    "   <tr>\n",
    "  <td>**Nozomi Okuhara**</td>\n",
    "    <td>4</td>\n",
    "    <td>2</td>\n",
    "    <td>2</td>\n",
    "    <td>0</td>\n",
    "  </tr>  \n",
    "  <tr>\n",
    "  <td>**S Jaquet**</td>\n",
    "    <td>0</td>\n",
    "    <td>0</td>\n",
    "    <td>2</td>\n",
    "    <td>1</td>\n",
    "  </tr>\n",
    "</table>"
   ]
  },
  {
   "cell_type": "markdown",
   "metadata": {},
   "source": [
    "# Congratulations\n",
    "\n",
    "You have completed the first milestone project of the Basic Python Programming course.\n",
    "<br> With this, you have compeleted the first phase of the course successfully.\n",
    "<br> Now in the further part of the course you will be learning about functions, OOP and many other concepts for which the knowledge the first half of the course will help.\n",
    "<br> Well done.\n",
    "<br> See you in the next phase of the course."
   ]
  }
 ],
 "metadata": {
  "kernelspec": {
   "display_name": "Python 3",
   "language": "python",
   "name": "python3"
  },
  "language_info": {
   "codemirror_mode": {
    "name": "ipython",
    "version": 3
   },
   "file_extension": ".py",
   "mimetype": "text/x-python",
   "name": "python",
   "nbconvert_exporter": "python",
   "pygments_lexer": "ipython3",
   "version": "3.6.5"
  }
 },
 "nbformat": 4,
 "nbformat_minor": 2
}
